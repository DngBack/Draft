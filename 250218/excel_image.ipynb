{
 "cells": [
  {
   "cell_type": "code",
   "execution_count": 3,
   "metadata": {},
   "outputs": [],
   "source": [
    "!pip install spire Spire.Xls openpyxl Unidecode -q"
   ]
  },
  {
   "cell_type": "code",
   "execution_count": 7,
   "metadata": {},
   "outputs": [
    {
     "name": "stdout",
     "output_type": "stream",
     "text": [
      "Excel file processed successfully!\n"
     ]
    }
   ],
   "source": [
    "import openpyxl\n",
    "import string\n",
    "from unidecode import unidecode\n",
    "from spire.xls import *\n",
    "from spire.xls.common import *\n",
    "\n",
    "file = \"Excel\\[1-006] Quy chuẩn ban hành văn bản nội bộ.xlsx\"\n",
    "# Function to remove punctuation from a text\n",
    "def remove_punctuation(text):\n",
    "    if isinstance(text, str):\n",
    "        text = unidecode(text)\n",
    "        return text.translate(str.maketrans('', '', string.punctuation))\n",
    "    return text\n",
    "\n",
    "# Load the existing workbook\n",
    "wb = openpyxl.load_workbook(file)\n",
    "\n",
    "# Get the active sheet or specify the sheet name\n",
    "sheet = wb.active  # or wb['SheetName']\n",
    "\n",
    "# Iterate through all cells in the sheet\n",
    "for row in sheet.iter_rows():\n",
    "    for cell in row:\n",
    "        if cell.value:  # If the cell has a value (not empty)\n",
    "            cell.value = remove_punctuation(cell.value)\n",
    "\n",
    "base_name = os.path.splitext(file)[0]  # Lấy tên file gốc không có phần mở rộng\n",
    "modified_file = f\"{base_name}_format.xlsx\"\n",
    "\n",
    "# Save the modified workbook\n",
    "wb.save(modified_file)\n",
    "\n",
    "# Create a Workbook object\n",
    "workbook = Workbook()\n",
    "# Load an Excel file\n",
    "workbook.LoadFromFile(modified_file)\n",
    "\n",
    "for index, sheet in enumerate(workbook.Worksheets):\n",
    "    # # Get the first worksheet\n",
    "    # sheet = workbook.Worksheets[0]\n",
    "    # Save the worksheet to an image\n",
    "    image = sheet.ToImage(sheet.FirstRow, sheet.FirstColumn, sheet.LastRow, sheet.LastColumn)\n",
    "    # Save the image to a PNG file\n",
    "    image_file = f\"{base_name}_sheet{index + 1}.png\"\n",
    "    image.Save(image_file)\n",
    "\n",
    "workbook.Dispose()\n",
    "print(\"Excel file processed successfully!\")"
   ]
  },
  {
   "cell_type": "code",
   "execution_count": 14,
   "metadata": {},
   "outputs": [
    {
     "name": "stdout",
     "output_type": "stream",
     "text": [
      "All sheets from Excel_Sample/[ISMS_1-501_VN] 1. Các quy định An ninh thông tin .xlsx have been processed and saved as images in Excel_Sample/image_excel.\n"
     ]
    }
   ],
   "source": [
    "import os\n",
    "import string\n",
    "from unidecode import unidecode\n",
    "from openpyxl import Workbook, load_workbook\n",
    "from spire.xls import Workbook as SpireWorkbook\n",
    "def remove_punctuation(text):\n",
    "    if isinstance(text, str):\n",
    "        text = unidecode(text)\n",
    "        return text.translate(str.maketrans('', '', string.punctuation))\n",
    "    return text\n",
    "\n",
    "def save_sheets_as_images(file_path, output_folder):\n",
    "    base_name = os.path.splitext(os.path.basename(file_path))[0]  # Lấy tên file gốc không có phần mở rộng\n",
    "    modified_file = os.path.join(output_folder, f\"{base_name}_format.xlsx\")\n",
    "    \n",
    "    # Load and process the Excel file\n",
    "    wb = load_workbook(file_path)\n",
    "    sheet = wb.active  # or specify the sheet name\n",
    "    \n",
    "    # Iterate through all cells and remove punctuation\n",
    "    for row in sheet.iter_rows():\n",
    "        for cell in row:\n",
    "            if cell.value:\n",
    "                cell.value = remove_punctuation(cell.value)\n",
    "    \n",
    "    wb.save(modified_file)\n",
    "    \n",
    "    # Dùng Spire.XLS để load file đã chỉnh sửa\n",
    "    workbook = SpireWorkbook()\n",
    "    workbook.LoadFromFile(modified_file)\n",
    "    \n",
    "    # Duyệt qua từng sheet và lưu ảnh\n",
    "    for index, sheet in enumerate(workbook.Worksheets):\n",
    "        image = sheet.ToImage(sheet.FirstRow, sheet.FirstColumn, sheet.LastRow, sheet.LastColumn)\n",
    "        image_file = os.path.join(output_folder, f\"{base_name}_sheet{index + 1}.png\")\n",
    "        image.Save(image_file)\n",
    "    \n",
    "    workbook.Dispose()\n",
    "    print(f\"All sheets from {file_path} have been processed and saved as images in {output_folder}.\")\n",
    "\n",
    "def process_folder(folder_path):\n",
    "    output_folder = os.path.join(folder_path, \"image_excel\")\n",
    "    os.makedirs(output_folder, exist_ok=True)\n",
    "    \n",
    "    for file_name in os.listdir(folder_path):\n",
    "        if file_name.endswith(\".xlsx\"):\n",
    "            file_path = os.path.join(folder_path, file_name)\n",
    "            save_sheets_as_images(file_path, output_folder)\n",
    "\n",
    "# Example usage\n",
    "process_folder(\"Excel_Sample/\")"
   ]
  },
  {
   "cell_type": "code",
   "execution_count": 25,
   "metadata": {},
   "outputs": [
    {
     "name": "stdout",
     "output_type": "stream",
     "text": [
      "Start convert from Excel_v2/0817【日経R回答】02_別紙２_(3)【顧】個人番号・個人データ保護に関する対応状況のチェックリスト.xlsx have been processed.\n",
      "All sheets from Excel_v2/0817【日経R回答】02_別紙２_(3)【顧】個人番号・個人データ保護に関する対応状況のチェックリスト.xlsx have been processed and saved as images in Excel_v2/image_excel.\n",
      "Start convert from Excel_v2/0825【日経R回答】01_別紙１_①【顧】受託業務に関するチェックリスト.xlsx have been processed.\n",
      "All sheets from Excel_v2/0825【日経R回答】01_別紙１_①【顧】受託業務に関するチェックリスト.xlsx have been processed and saved as images in Excel_v2/image_excel.\n",
      "Start convert from Excel_v2/1226NKR_情報セキュリティチェック表.xlsx have been processed.\n",
      "All sheets from Excel_v2/1226NKR_情報セキュリティチェック表.xlsx have been processed and saved as images in Excel_v2/image_excel.\n",
      "Start convert from Excel_v2/2-002_QUY TRÌNH QUẢN LÝ VÀ YÊU CẦU CON DẤU CÔNG TY.xlsx have been processed.\n",
      "All sheets from Excel_v2/2-002_QUY TRÌNH QUẢN LÝ VÀ YÊU CẦU CON DẤU CÔNG TY.xlsx have been processed and saved as images in Excel_v2/image_excel.\n",
      "Start convert from Excel_v2/2-109_QUY TRÌNH CẬP NHẬT QUY CHẾ TÀI CHÍNH.xlsx have been processed.\n",
      "All sheets from Excel_v2/2-109_QUY TRÌNH CẬP NHẬT QUY CHẾ TÀI CHÍNH.xlsx have been processed and saved as images in Excel_v2/image_excel.\n",
      "Start convert from Excel_v2/AWS Instances for DL AMI.xlsx have been processed.\n",
      "All sheets from Excel_v2/AWS Instances for DL AMI.xlsx have been processed and saved as images in Excel_v2/image_excel.\n",
      "Start convert from Excel_v2/Box IPO Financial Model.xlsx have been processed.\n",
      "All sheets from Excel_v2/Box IPO Financial Model.xlsx have been processed and saved as images in Excel_v2/image_excel.\n",
      "Start convert from Excel_v2/Contract checklist.xlsx have been processed.\n",
      "All sheets from Excel_v2/Contract checklist.xlsx have been processed and saved as images in Excel_v2/image_excel.\n",
      "Start convert from Excel_v2/Copy of [V17_01012025] 2-200_Quy trình Quản lý lao động (C&B).xlsx have been processed.\n",
      "All sheets from Excel_v2/Copy of [V17_01012025] 2-200_Quy trình Quản lý lao động (C&B).xlsx have been processed and saved as images in Excel_v2/image_excel.\n",
      "Start convert from Excel_v2/Finacial Analysis.xlsx have been processed.\n",
      "All sheets from Excel_v2/Finacial Analysis.xlsx have been processed and saved as images in Excel_v2/image_excel.\n",
      "Start convert from Excel_v2/Khảo sát 3 đối thủ.xlsx have been processed.\n",
      "All sheets from Excel_v2/Khảo sát 3 đối thủ.xlsx have been processed and saved as images in Excel_v2/image_excel.\n",
      "Start convert from Excel_v2/Literature Review.xlsx have been processed.\n"
     ]
    },
    {
     "name": "stderr",
     "output_type": "stream",
     "text": [
      "c:\\Users\\Admin\\anaconda3\\envs\\learn\\lib\\site-packages\\openpyxl\\worksheet\\_reader.py:329: UserWarning: Unknown extension is not supported and will be removed\n",
      "  warn(msg)\n"
     ]
    },
    {
     "name": "stdout",
     "output_type": "stream",
     "text": [
      "All sheets from Excel_v2/Literature Review.xlsx have been processed and saved as images in Excel_v2/image_excel.\n",
      "Start convert from Excel_v2/money-manager-2.xlsx have been processed.\n"
     ]
    },
    {
     "name": "stderr",
     "output_type": "stream",
     "text": [
      "c:\\Users\\Admin\\anaconda3\\envs\\learn\\lib\\site-packages\\openpyxl\\worksheet\\_reader.py:329: UserWarning: Conditional Formatting extension is not supported and will be removed\n",
      "  warn(msg)\n",
      "c:\\Users\\Admin\\anaconda3\\envs\\learn\\lib\\site-packages\\openpyxl\\reader\\workbook.py:118: UserWarning: Print area cannot be set to Defined name: Goals!$A:$I.\n",
      "  warn(f\"Print area cannot be set to Defined name: {defn.value}.\")\n"
     ]
    },
    {
     "name": "stdout",
     "output_type": "stream",
     "text": [
      "All sheets from Excel_v2/money-manager-2.xlsx have been processed and saved as images in Excel_v2/image_excel.\n",
      "Start convert from Excel_v2/project-manager-gantt-chart.xlsx have been processed.\n",
      "All sheets from Excel_v2/project-manager-gantt-chart.xlsx have been processed and saved as images in Excel_v2/image_excel.\n",
      "Start convert from Excel_v2/sales-forecast.xlsx have been processed.\n"
     ]
    },
    {
     "ename": "UnboundLocalError",
     "evalue": "local variable 'last_row' referenced before assignment",
     "output_type": "error",
     "traceback": [
      "\u001b[1;31m---------------------------------------------------------------------------\u001b[0m",
      "\u001b[1;31mUnboundLocalError\u001b[0m                         Traceback (most recent call last)",
      "Cell \u001b[1;32mIn[25], line 79\u001b[0m\n\u001b[0;32m     76\u001b[0m             save_sheets_as_images(file_path, output_folder)\n\u001b[0;32m     78\u001b[0m \u001b[38;5;66;03m# Example usage\u001b[39;00m\n\u001b[1;32m---> 79\u001b[0m \u001b[43mprocess_folder\u001b[49m\u001b[43m(\u001b[49m\u001b[38;5;124;43m\"\u001b[39;49m\u001b[38;5;124;43mExcel_v2/\u001b[39;49m\u001b[38;5;124;43m\"\u001b[39;49m\u001b[43m)\u001b[49m\n",
      "Cell \u001b[1;32mIn[25], line 76\u001b[0m, in \u001b[0;36mprocess_folder\u001b[1;34m(folder_path)\u001b[0m\n\u001b[0;32m     74\u001b[0m \u001b[38;5;28;01mif\u001b[39;00m file_name\u001b[38;5;241m.\u001b[39mendswith(\u001b[38;5;124m\"\u001b[39m\u001b[38;5;124m.xlsx\u001b[39m\u001b[38;5;124m\"\u001b[39m):\n\u001b[0;32m     75\u001b[0m     file_path \u001b[38;5;241m=\u001b[39m os\u001b[38;5;241m.\u001b[39mpath\u001b[38;5;241m.\u001b[39mjoin(folder_path, file_name)\n\u001b[1;32m---> 76\u001b[0m     \u001b[43msave_sheets_as_images\u001b[49m\u001b[43m(\u001b[49m\u001b[43mfile_path\u001b[49m\u001b[43m,\u001b[49m\u001b[43m \u001b[49m\u001b[43moutput_folder\u001b[49m\u001b[43m)\u001b[49m\n",
      "Cell \u001b[1;32mIn[25], line 59\u001b[0m, in \u001b[0;36msave_sheets_as_images\u001b[1;34m(file_path, output_folder)\u001b[0m\n\u001b[0;32m     57\u001b[0m \u001b[38;5;66;03m# Duyệt qua từng sheet và lưu ảnh\u001b[39;00m\n\u001b[0;32m     58\u001b[0m \u001b[38;5;28;01mfor\u001b[39;00m index, sheet \u001b[38;5;129;01min\u001b[39;00m \u001b[38;5;28menumerate\u001b[39m(workbook\u001b[38;5;241m.\u001b[39mWorksheets):\n\u001b[1;32m---> 59\u001b[0m     first_row, first_col, last_row, last_col \u001b[38;5;241m=\u001b[39m \u001b[43mget_actual_used_range\u001b[49m\u001b[43m(\u001b[49m\u001b[43msheet\u001b[49m\u001b[43m)\u001b[49m\n\u001b[0;32m     60\u001b[0m     \u001b[38;5;66;03m# print(f\"Sheet {index}: FirstRow={first_row}, LastRow={last_row}, FirstColumn={first_col}, LastColumn={last_col}\")\u001b[39;00m\n\u001b[0;32m     61\u001b[0m     \u001b[38;5;28;01mif\u001b[39;00m first_row \u001b[38;5;241m<\u001b[39m\u001b[38;5;241m=\u001b[39m last_row \u001b[38;5;129;01mand\u001b[39;00m first_col \u001b[38;5;241m<\u001b[39m\u001b[38;5;241m=\u001b[39m last_col:\n",
      "Cell \u001b[1;32mIn[25], line 34\u001b[0m, in \u001b[0;36mget_actual_used_range\u001b[1;34m(sheet)\u001b[0m\n\u001b[0;32m     31\u001b[0m first_row \u001b[38;5;241m=\u001b[39m sheet\u001b[38;5;241m.\u001b[39mFirstRow\n\u001b[0;32m     32\u001b[0m first_col \u001b[38;5;241m=\u001b[39m sheet\u001b[38;5;241m.\u001b[39mFirstColumn\n\u001b[1;32m---> 34\u001b[0m \u001b[38;5;28;01mreturn\u001b[39;00m first_row, first_col, \u001b[43mlast_row\u001b[49m, last_col\n",
      "\u001b[1;31mUnboundLocalError\u001b[0m: local variable 'last_row' referenced before assignment"
     ]
    }
   ],
   "source": [
    "import os\n",
    "import string\n",
    "from unidecode import unidecode\n",
    "from openpyxl import Workbook, load_workbook\n",
    "from spire.xls import Workbook as SpireWorkbook\n",
    "\n",
    "def remove_punctuation(text):\n",
    "    if isinstance(text, str):\n",
    "        text = unidecode(text)\n",
    "        return text.translate(str.maketrans('', '', string.punctuation))\n",
    "    return text\n",
    "\n",
    "def get_actual_used_range(sheet):\n",
    "    max_rows = sheet.Rows.Length\n",
    "    max_cols = sheet.Columns.Length\n",
    "\n",
    "    for row in range(max_rows - 1, -1, -1):\n",
    "        for col in range(max_cols):\n",
    "            cell = sheet.Range[row + 1, col + 1]\n",
    "            if cell.Value is not None and cell.Text.strip():\n",
    "                last_row = row\n",
    "                break\n",
    "\n",
    "    for col in range(max_cols - 1, -1, -1):\n",
    "        for row in range(max_rows):\n",
    "            cell = sheet.Range[row + 1, col + 1]\n",
    "            if cell.Value is not None and cell.Text.strip():\n",
    "                last_col = col\n",
    "                break\n",
    "    \n",
    "    first_row = sheet.FirstRow\n",
    "    first_col = sheet.FirstColumn\n",
    "    \n",
    "    return first_row, first_col, last_row, last_col\n",
    "\n",
    "def save_sheets_as_images(file_path, output_folder):\n",
    "    print(f\"Start convert from {file_path} have been processed.\")\n",
    "    base_name = os.path.splitext(os.path.basename(file_path))[0]  # Lấy tên file gốc không có phần mở rộng\n",
    "    modified_file = os.path.join(output_folder, f\"{base_name}_format.xlsx\")\n",
    "    \n",
    "    # Load and process the Excel file\n",
    "    wb = load_workbook(file_path)\n",
    "    sheet = wb.active  # or specify the sheet name\n",
    "    \n",
    "    # Iterate through all cells and remove punctuation\n",
    "    for row in sheet.iter_rows():\n",
    "        for cell in row:\n",
    "            if cell.value:\n",
    "                cell.value = remove_punctuation(cell.value)\n",
    "    \n",
    "    wb.save(modified_file)\n",
    "    \n",
    "    # Dùng Spire.XLS để load file đã chỉnh sửa\n",
    "    workbook = SpireWorkbook()\n",
    "    workbook.LoadFromFile(modified_file)\n",
    "    \n",
    "    # Duyệt qua từng sheet và lưu ảnh\n",
    "    for index, sheet in enumerate(workbook.Worksheets):\n",
    "        first_row, first_col, last_row, last_col = get_actual_used_range(sheet)\n",
    "        # print(f\"Sheet {index}: FirstRow={first_row}, LastRow={last_row}, FirstColumn={first_col}, LastColumn={last_col}\")\n",
    "        if first_row <= last_row and first_col <= last_col:\n",
    "            image = sheet.ToImage(first_row, first_col, last_row, last_col)\n",
    "            image_file = os.path.join(output_folder, f\"{base_name}_sheet{index + 1}.png\")\n",
    "            image.Save(image_file)\n",
    "    \n",
    "    workbook.Dispose()\n",
    "    print(f\"All sheets from {file_path} have been processed and saved as images in {output_folder}.\")\n",
    "\n",
    "def process_folder(folder_path):\n",
    "    output_folder = os.path.join(folder_path, \"image_excel\")\n",
    "    os.makedirs(output_folder, exist_ok=True)\n",
    "    \n",
    "    for file_name in os.listdir(folder_path):\n",
    "        if file_name.endswith(\".xlsx\"):\n",
    "            file_path = os.path.join(folder_path, file_name)\n",
    "            save_sheets_as_images(file_path, output_folder)\n",
    "\n",
    "# Example usage\n",
    "process_folder(\"Excel_v2/\")"
   ]
  },
  {
   "cell_type": "code",
   "execution_count": 31,
   "metadata": {},
   "outputs": [
    {
     "name": "stdout",
     "output_type": "stream",
     "text": [
      "File has been saved at: refine_excel.xlsx\n"
     ]
    }
   ],
   "source": [
    "import openpyxl\n",
    "\n",
    "\n",
    "def autofit_excel(file_path, output_path):\n",
    "    wb = openpyxl.load_workbook(file_path)\n",
    "\n",
    "    for ws in wb.worksheets:  # Iterate through all sheets\n",
    "        column_widths = {}  # Store maximum column width\n",
    "\n",
    "        for row in ws.iter_rows():\n",
    "            max_height = 0  # Store maximum row height\n",
    "\n",
    "            for cell in row:\n",
    "                if cell.value:\n",
    "                    cell_text = str(cell.value)\n",
    "\n",
    "                    # Adjust column width based on the longest content\n",
    "                    col_letter = cell.column_letter  # Get column letter (A, B, C, ...)\n",
    "                    column_widths[col_letter] = max(column_widths.get(col_letter, 0), len(cell_text) + 2)\n",
    "\n",
    "                    # Calculate row height based on number of lines\n",
    "                    num_lines = cell_text.count(\"\\n\") + 1  # Count number of lines\n",
    "                    max_height = max(max_height, num_lines * 20)  # Adjust factor (20px per line)\n",
    "\n",
    "            # Update row height\n",
    "            ws.row_dimensions[row[0].row].height = max_height if max_height > 0 else None\n",
    "\n",
    "        # Update column width\n",
    "        for col_letter, width in column_widths.items():\n",
    "            ws.column_dimensions[col_letter].width = width\n",
    "\n",
    "    # Save the modified file\n",
    "    wb.save(output_path)\n",
    "    print(f\"File has been saved at: {output_path}\")\n",
    "\n",
    "# Run the function with the Excel file path\n",
    "autofit_excel(\"Excel_v2\\[1-006] Quy chuẩn ban hành văn bản nội bộ.xlsx\", \"refine_excel.xlsx\")\n"
   ]
  },
  {
   "cell_type": "code",
   "execution_count": null,
   "metadata": {},
   "outputs": [],
   "source": []
  }
 ],
 "metadata": {
  "kernelspec": {
   "display_name": "learn",
   "language": "python",
   "name": "python3"
  },
  "language_info": {
   "codemirror_mode": {
    "name": "ipython",
    "version": 3
   },
   "file_extension": ".py",
   "mimetype": "text/x-python",
   "name": "python",
   "nbconvert_exporter": "python",
   "pygments_lexer": "ipython3",
   "version": "3.10.16"
  }
 },
 "nbformat": 4,
 "nbformat_minor": 2
}
