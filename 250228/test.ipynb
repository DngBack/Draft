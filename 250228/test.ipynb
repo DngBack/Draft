{
 "cells": [
  {
   "cell_type": "code",
   "execution_count": 6,
   "metadata": {},
   "outputs": [
    {
     "name": "stdout",
     "output_type": "stream",
     "text": [
      "Number of lines present:- 958\n"
     ]
    }
   ],
   "source": [
    "# import module \n",
    "import pandas as pd \n",
    "  \n",
    "# read CSV file \n",
    "results = pd.read_csv('mil.csv') \n",
    "  \n",
    "# count no. of lines \n",
    "print(\"Number of lines present:-\",  \n",
    "      len(results)) "
   ]
  },
  {
   "cell_type": "code",
   "execution_count": 5,
   "metadata": {},
   "outputs": [
    {
     "name": "stdout",
     "output_type": "stream",
     "text": [
      "[\"You're an money manager assistant.\\nYour job is to find and convert textual money string into integer money string\"\n",
      " '5 chai 750 mua quà sinh nhật cho bạn thân\\n' 5750000]\n"
     ]
    }
   ],
   "source": [
    "print(results.values[500])"
   ]
  },
  {
   "cell_type": "code",
   "execution_count": null,
   "metadata": {},
   "outputs": [],
   "source": []
  }
 ],
 "metadata": {
  "kernelspec": {
   "display_name": "learn",
   "language": "python",
   "name": "python3"
  },
  "language_info": {
   "codemirror_mode": {
    "name": "ipython",
    "version": 3
   },
   "file_extension": ".py",
   "mimetype": "text/x-python",
   "name": "python",
   "nbconvert_exporter": "python",
   "pygments_lexer": "ipython3",
   "version": "3.10.16"
  }
 },
 "nbformat": 4,
 "nbformat_minor": 2
}
